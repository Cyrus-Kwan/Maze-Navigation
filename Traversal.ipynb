{
 "cells": [
  {
   "cell_type": "code",
   "execution_count": null,
   "metadata": {},
   "outputs": [],
   "source": [
    "from google.colab import drive\n",
    "\n",
    "drive.mount(\"/content/gdrive/\")"
   ]
  },
  {
   "cell_type": "code",
   "execution_count": null,
   "metadata": {},
   "outputs": [],
   "source": [
    "cd /content/gdrive/MyDrive/grid-traversal/"
   ]
  },
  {
   "cell_type": "code",
   "execution_count": 1,
   "metadata": {},
   "outputs": [],
   "source": [
    "from maze import Maze\n",
    "from cell import *"
   ]
  },
  {
   "cell_type": "code",
   "execution_count": 2,
   "metadata": {},
   "outputs": [],
   "source": [
    "def shortest_path(maze:Maze, start_cell:Cell, stop_cell:Cell, parents:dict):\n",
    "    '''\n",
    "    Returns the shortest path from a child:parent map\n",
    "    '''\n",
    "    grid = maze.grid\n",
    "    path = []\n",
    "    prev = stop_cell\n",
    "    while prev != start_cell:\n",
    "        path.append(grid[prev.row][prev.col])\n",
    "        prev = parents[(prev.row, prev.col)]\n",
    "    path.append(grid[start_cell.row][start_cell.col])\n",
    "    path.reverse()\n",
    "    return path"
   ]
  },
  {
   "cell_type": "markdown",
   "metadata": {},
   "source": [
    "Breadth First Search"
   ]
  },
  {
   "cell_type": "code",
   "execution_count": 3,
   "metadata": {},
   "outputs": [],
   "source": [
    "def breadth_first_search(maze:Maze, start_cell:Cell, stop_cell:Cell):\n",
    "    '''\n",
    "    Traverses through all neighbours at the current depth by using a FIFO queue/frontier\n",
    "        maze : The Maze object to be traversed is a n*k matrix containing Cell objects\n",
    "        start : A tuple of length 2 in the form of (row, col) that is the origin state\n",
    "        stop : A typle of length 2 in the form of (row, col) that is the goal state\n",
    "    '''\n",
    "    grid:list[list] = maze.grid\n",
    "\n",
    "    # Current state initialized at the starting state\n",
    "    curr_cell:Cell = start_cell\n",
    "\n",
    "    # Breadth first search uses a first-in-first-out (FIFO) stack where the oldest\n",
    "    # element is popped from the queue\n",
    "    frontier:list[Cell] = [curr_cell]\n",
    "\n",
    "    # States that have already been visited should not be added to the queue again\n",
    "    explored:list[Cell] = []\n",
    "\n",
    "    # Map of traversed states and their immediate parent state for backtracking.\n",
    "    # This is used to determine the shortest path by following a sequence of parents\n",
    "    # back to the origin\n",
    "    parents:dict[Cell] = {}\n",
    "\n",
    "    # Continue while the queue contains traversable states\n",
    "    while frontier:\n",
    "        # Pop the oldest state in the queue and add it to the visited set\n",
    "        curr_cell = frontier.pop(0)\n",
    "        explored.append(curr_cell)\n",
    "\n",
    "        # Once the current state has reached the goal state, end the process\n",
    "        if curr_cell == stop_cell:\n",
    "            return explored, parents\n",
    "        \n",
    "        # Add neighbours/children of the current state to the stack starting\n",
    "        # from above in a clockwise order\n",
    "        for row, col in [(-1,0), (0,1), (1,0), (0,-1)]:\n",
    "            child_row, child_col = curr_cell.row+row, curr_cell.col+col\n",
    "\n",
    "            # Check the child state is within the maze boundary\n",
    "            if 0 <= child_row < len(grid) and 0 <= child_col < len(grid[0]):\n",
    "                child_cell:Cell = grid[child_row][child_col]\n",
    "\n",
    "                # Check the child cell is a traversable state in the maze.\n",
    "                # Cells/states can be either a \"path\" or a \"wall\". Invalid states\n",
    "                # block the path to the goal state\n",
    "                if not child_cell.path:\n",
    "                    continue\n",
    "                \n",
    "                # Add the neighbour/child to the queue if it has not been visited\n",
    "                # Add the child and its parent for backtracking shortest path\n",
    "                if (child_cell not in frontier) and (child_cell not in explored):\n",
    "                    frontier.append(child_cell)\n",
    "                    parents[(child_cell.row, child_cell.col)] = curr_cell\n",
    "\n",
    "    # No solution\n",
    "    return"
   ]
  },
  {
   "cell_type": "markdown",
   "metadata": {},
   "source": [
    "Depth first search"
   ]
  },
  {
   "cell_type": "code",
   "execution_count": 4,
   "metadata": {},
   "outputs": [],
   "source": [
    "def depth_first_search(maze:Maze, start_cell:Cell, stop_cell:Cell):\n",
    "    '''\n",
    "    Traverses to the end of a branch by using a FILO queue/frontier\n",
    "        maze : The Maze object to be traversed is a n*k matrix containing Cell objects\n",
    "        start : A tuple of length 2 in the form of (row, col) that is the origin state\n",
    "        stop : A typle of length 2 in the form of (row, col) that is the goal state\n",
    "    '''\n",
    "    grid:list[list] = maze.grid\n",
    "\n",
    "    # Current state initialized at the starting state\n",
    "    curr_cell:Cell = start_cell\n",
    "\n",
    "    # Depth first search uses a first-in-last-out (FILO) stack where the newest\n",
    "    # element is popped from the queue\n",
    "    frontier:list[Cell] = [curr_cell]\n",
    "\n",
    "    # States that have already been visited should not be added to the queue again\n",
    "    explored:list[Cell] = []\n",
    "\n",
    "    # Map of traversed states and their immediate parent state for backtracking.\n",
    "    # This is used to determine the shortest path by following a sequence of parents\n",
    "    # back to the origin\n",
    "    parents:dict[Cell] = {}\n",
    "\n",
    "    # Continue while the queue contains traversable states\n",
    "    while frontier:\n",
    "        # Pop the newest state in the queue and add it to the visited set\n",
    "        curr_cell = frontier.pop(-1)\n",
    "        explored.append(curr_cell)\n",
    "\n",
    "        # Once the current state has reached the goal state, end the process\n",
    "        if curr_cell == stop_cell:\n",
    "            return explored, parents\n",
    "        \n",
    "        # Add neighbours/children of the current state to the stack starting\n",
    "        # from above in a clockwise order\n",
    "        for row, col in [(-1,0), (0,1), (1,0), (0,-1)]:\n",
    "            child_row, child_col = curr_cell.row+row, curr_cell.col+col\n",
    "\n",
    "            # Check the child state is within the maze boundary\n",
    "            if 0 <= child_row < len(grid) and 0 <= child_col < len(grid[0]):\n",
    "                child_cell:Cell = grid[child_row][child_col]\n",
    "\n",
    "                # Check the child cell is a traversable state in the maze.\n",
    "                # Cells/states can be either a \"path\" or a \"wall\". Invalid states\n",
    "                # block the path to the goal state\n",
    "                if not child_cell.path:\n",
    "                    continue\n",
    "                \n",
    "                # Add the neighbour/child to the queue if it has not been visited\n",
    "                # Add the child and its parent for backtracking shortest path\n",
    "                if (child_cell not in frontier) and (child_cell not in explored):\n",
    "                    frontier.append(child_cell)\n",
    "                    parents[(child_cell.row, child_cell.col)] = curr_cell\n",
    "\n",
    "    # No solution\n",
    "    return"
   ]
  },
  {
   "cell_type": "markdown",
   "metadata": {
    "vscode": {
     "languageId": "bat"
    }
   },
   "source": [
    "A* search"
   ]
  },
  {
   "cell_type": "code",
   "execution_count": 5,
   "metadata": {},
   "outputs": [],
   "source": [
    "import numpy as np"
   ]
  },
  {
   "cell_type": "code",
   "execution_count": 6,
   "metadata": {},
   "outputs": [],
   "source": [
    "def heuristic(cell:Cell, stop_cell:Cell, metric:str=\"euclidean\"):\n",
    "        x_dist:int = abs(cell.row - stop_cell.row)\n",
    "        y_dist:int = abs(cell.col - stop_cell.col)\n",
    "        dist:float = None\n",
    "        match metric:\n",
    "            case \"euclidean\":\n",
    "                sum_of_squares:int = (x_dist**2) + (y_dist**2)\n",
    "                dist:float = np.sqrt(sum_of_squares)\n",
    "\n",
    "                return dist\n",
    "            case \"manhattan\":\n",
    "                dist:float = sum((x_dist, y_dist))\n",
    "\n",
    "        return dist"
   ]
  },
  {
   "cell_type": "code",
   "execution_count": 7,
   "metadata": {},
   "outputs": [],
   "source": [
    "def a_star_search(maze:Maze, start_cell:tuple, stop_cell:tuple, metric:str=\"euclidean\"):\n",
    "    '''\n",
    "    Traverses through neighbours that are closest to the goal state by using a priority frontier/queue.\n",
    "        maze : The Maze object to be traversed is a n*k matrix containing Cell objects\n",
    "        start : A tuple of length 2 in the form of (row, col) that is the origin state\n",
    "        stop : A typle of length 2 in the form of (row, col) that is the goal state\n",
    "    '''\n",
    "    grid:list[list] = maze.grid\n",
    "\n",
    "    # Current state initialized at the starting state\n",
    "    curr_cell:Cell = start_cell\n",
    "\n",
    "    # A* search uses a priority frontier/queue where the state with the lowest score\n",
    "    # is popped from the stack to become the current state\n",
    "    frontier:list[Cell] = [curr_cell]\n",
    "\n",
    "    # States that have already been visited should not be added to the queue again\n",
    "    explored:list[Cell] = []\n",
    "\n",
    "    # Map of traversed states and their immediate parent state for backtracking.\n",
    "    # This is used to determine the shortest path by following a sequence of parents\n",
    "    # back to the origin\n",
    "    parents:dict[Cell] = {(curr_cell.row, curr_cell.col):curr_cell}\n",
    "\n",
    "    # A* score is calculated to order the frontier from lowest to highest\n",
    "    # the first element (state with lowest score) is then popped to become the current state\n",
    "    heuristic_cost = lambda cell:heuristic(\n",
    "        cell=cell, stop_cell=stop_cell, metric=metric\n",
    "    )\n",
    "    current_cost:int = lambda cell:len(\n",
    "        shortest_path(\n",
    "            maze=maze, start_cell=start_cell, stop_cell=cell, parents=parents\n",
    "        )\n",
    "    )\n",
    "    a_star_score = lambda cell:current_cost(cell=cell)+heuristic_cost(cell=cell)\n",
    "\n",
    "    # Continue while the queue contains traversable states\n",
    "    while frontier:\n",
    "        frontier.sort(key=a_star_score)\n",
    "\n",
    "        # Pop the newest state in the queue and add it to the visited set\n",
    "        curr_cell = frontier.pop(0)\n",
    "        explored.append(curr_cell)\n",
    "\n",
    "        # Once the current state has reached the goal state, end the process\n",
    "        if curr_cell == stop_cell:\n",
    "            return explored, parents\n",
    "        \n",
    "        # Add neighbours/children of the current state to the stack starting\n",
    "        # from above in a clockwise order\n",
    "        for row, col in [(-1,0), (0,1), (1,0), (0,-1)]:\n",
    "            child_row, child_col = curr_cell.row+row, curr_cell.col+col\n",
    "\n",
    "            # Check the child state is within the maze boundary\n",
    "            if 0 <= child_row < len(grid) and 0 <= child_col < len(grid[0]):\n",
    "                child_cell:Cell = grid[child_row][child_col]\n",
    "\n",
    "                # Check the child cell is a traversable state in the maze.\n",
    "                # Cells/states can be either a \"path\" or a \"wall\". Invalid states\n",
    "                # block the path to the goal state\n",
    "                if not child_cell.path:\n",
    "                    continue\n",
    "                \n",
    "                # Add the neighbour/child to the queue if it has not been visited\n",
    "                # Add the child and its parent for backtracking shortest path\n",
    "                if (child_cell not in frontier) and (child_cell not in explored):\n",
    "                    frontier.append(child_cell)\n",
    "                    parents[(child_cell.row, child_cell.col)] = curr_cell\n",
    "\n",
    "    # No solution\n",
    "    return"
   ]
  },
  {
   "cell_type": "markdown",
   "metadata": {},
   "source": [
    "Evaluation"
   ]
  },
  {
   "cell_type": "code",
   "execution_count": 8,
   "metadata": {},
   "outputs": [],
   "source": [
    "import tkinter as tk"
   ]
  },
  {
   "cell_type": "code",
   "execution_count": 40,
   "metadata": {},
   "outputs": [],
   "source": [
    "def visualize(title:str, maze:Maze, start_cell:Cell, stop_cell:Cell, explored:list[Cell], cell_path:list[Cell]):\n",
    "    window = tk.Tk()\n",
    "    window.title(title)\n",
    "    canvas = tk.Canvas(\n",
    "        master=window, width=maze.width, height=maze.height\n",
    "    )\n",
    "    canvas.pack()\n",
    "\n",
    "    for cell in explored:\n",
    "        cell.colour = colour_set[\"explored\"]\n",
    "        start_cell.colour = colour_set[\"start\"]\n",
    "        stop_cell.colour = colour_set[\"stop\"]\n",
    "        maze.draw_grid(canvas=canvas)\n",
    "        window.update()\n",
    "\n",
    "    for cell in cell_path:\n",
    "        cell.colour = colour_set[\"solution\"]\n",
    "        start_cell.colour = colour_set[\"start\"]\n",
    "        stop_cell.colour = colour_set[\"stop\"]\n",
    "        maze.draw_grid(canvas=canvas)\n",
    "        window.update()\n",
    "\n",
    "    window.mainloop()"
   ]
  },
  {
   "cell_type": "markdown",
   "metadata": {},
   "source": [
    "Breadth First Search Evaluation"
   ]
  },
  {
   "cell_type": "code",
   "execution_count": 41,
   "metadata": {},
   "outputs": [
    {
     "name": "stdout",
     "output_type": "stream",
     "text": [
      "[(0, 0), (0, 1), (0, 2), (1, 2), (2, 2), (2, 3), (2, 4), (3, 4), (4, 4), (4, 5), (5, 5), (5, 6), (5, 7), (5, 8), (5, 9), (5, 10), (5, 11), (6, 11), (7, 11), (7, 12), (7, 13), (8, 13), (9, 13), (10, 13), (11, 13), (12, 13), (13, 13), (13, 14), (14, 14), (14, 15), (15, 15), (16, 15), (17, 15), (18, 15), (19, 15), (19, 16), (19, 17), (19, 18), (19, 19)]\n",
      "Shortest path: 39\n",
      "Explored states: 273\n"
     ]
    }
   ],
   "source": [
    "# Load maze for breadth first search traversal\n",
    "bfs_maze = Maze(file_name=\"maze.csv\")\n",
    "\n",
    "# Run a search on each of the pathfinding algorithms and compare the results\n",
    "start_cell:Cell = bfs_maze.grid[0][0]\n",
    "stop_cell:Cell = bfs_maze.grid[19][19]\n",
    "\n",
    "explored, parents = breadth_first_search(\n",
    "    maze=bfs_maze, start_cell=start_cell, stop_cell=stop_cell\n",
    ")\n",
    "cell_path = shortest_path(maze=bfs_maze, start_cell=start_cell, stop_cell=stop_cell, parents=parents)\n",
    "coord_path = [(cell.row, cell.col) for cell in cell_path]\n",
    "\n",
    "print(coord_path)\n",
    "print(\"Shortest path:\", len(coord_path))\n",
    "print(\"Explored states:\", len(explored))"
   ]
  },
  {
   "cell_type": "code",
   "execution_count": 42,
   "metadata": {},
   "outputs": [],
   "source": [
    "# tkinter visualization of breadth first search (incompatible with google colab)\n",
    "visualize(\n",
    "    title=\"breadth first search\",\n",
    "    maze=bfs_maze, \n",
    "    start_cell=start_cell, \n",
    "    stop_cell=stop_cell, \n",
    "    explored=explored, \n",
    "    cell_path=cell_path\n",
    ")"
   ]
  },
  {
   "cell_type": "markdown",
   "metadata": {},
   "source": [
    "Depth First Search Evaluation"
   ]
  },
  {
   "cell_type": "code",
   "execution_count": 43,
   "metadata": {},
   "outputs": [
    {
     "name": "stdout",
     "output_type": "stream",
     "text": [
      "[(0, 0), (1, 0), (2, 0), (3, 0), (3, 1), (4, 1), (5, 1), (5, 0), (6, 0), (7, 0), (7, 1), (8, 1), (9, 1), (9, 0), (10, 0), (11, 0), (12, 0), (12, 1), (12, 2), (12, 3), (12, 4), (11, 4), (11, 5), (11, 6), (11, 7), (10, 7), (9, 7), (9, 6), (9, 5), (9, 4), (9, 3), (8, 3), (7, 3), (7, 4), (7, 5), (6, 5), (6, 6), (6, 7), (7, 7), (7, 8), (7, 9), (7, 10), (7, 11), (8, 11), (8, 12), (8, 13), (9, 13), (10, 13), (11, 13), (11, 12), (12, 12), (13, 12), (14, 12), (15, 12), (15, 11), (15, 10), (15, 9), (15, 8), (14, 8), (14, 7), (14, 6), (15, 6), (16, 6), (17, 6), (17, 5), (17, 4), (18, 4), (19, 4), (19, 5), (19, 6), (19, 7), (19, 8), (18, 8), (18, 9), (18, 10), (19, 10), (19, 11), (19, 12), (19, 13), (19, 14), (19, 15), (19, 16), (19, 17), (19, 18), (19, 19)]\n",
      "Shortest path: 85\n",
      "Explored states: 122\n"
     ]
    }
   ],
   "source": [
    "# Load maze for depth first search traversal\n",
    "dfs_maze = Maze(file_name=\"maze.csv\")\n",
    "\n",
    "# Run a search on each of the pathfinding algorithms and compare the results\n",
    "start_cell:Cell = dfs_maze.grid[0][0]\n",
    "stop_cell:Cell = dfs_maze.grid[19][19]\n",
    "\n",
    "explored, parents = depth_first_search(\n",
    "    maze=dfs_maze, start_cell=start_cell, stop_cell=stop_cell\n",
    ")\n",
    "cell_path = shortest_path(maze=dfs_maze, start_cell=start_cell, stop_cell=stop_cell, parents=parents)\n",
    "coord_path = [(cell.row, cell.col) for cell in cell_path]\n",
    "\n",
    "print(coord_path)\n",
    "print(\"Shortest path:\", len(coord_path))\n",
    "print(\"Explored states:\", len(explored))"
   ]
  },
  {
   "cell_type": "code",
   "execution_count": 46,
   "metadata": {},
   "outputs": [],
   "source": [
    "# tkinter visualization of depth first search (incompatible with google colab)\n",
    "visualize(\n",
    "    title=\"depth first search\",\n",
    "    maze=dfs_maze, \n",
    "    start_cell=start_cell, \n",
    "    stop_cell=stop_cell, \n",
    "    explored=explored, \n",
    "    cell_path=cell_path\n",
    ")"
   ]
  },
  {
   "cell_type": "markdown",
   "metadata": {},
   "source": [
    "A* Search using Euclidean Distance Evaluation"
   ]
  },
  {
   "cell_type": "code",
   "execution_count": 47,
   "metadata": {},
   "outputs": [
    {
     "name": "stdout",
     "output_type": "stream",
     "text": [
      "[(0, 0), (0, 1), (0, 2), (1, 2), (2, 2), (2, 3), (2, 4), (3, 4), (4, 4), (4, 5), (5, 5), (5, 6), (6, 6), (6, 7), (7, 7), (7, 8), (7, 9), (7, 10), (7, 11), (8, 11), (8, 12), (8, 13), (9, 13), (10, 13), (11, 13), (12, 13), (13, 13), (13, 14), (14, 14), (14, 15), (15, 15), (16, 15), (17, 15), (18, 15), (19, 15), (19, 16), (19, 17), (19, 18), (19, 19)]\n",
      "Shortest path: 39\n",
      "Explored states: 204\n"
     ]
    }
   ],
   "source": [
    "# Load maze for euclidean a* search traversal\n",
    "euc_maze = Maze(file_name=\"maze.csv\")\n",
    "\n",
    "# Run a search on each of the pathfinding algorithms and compare the results\n",
    "start_cell:Cell = euc_maze.grid[0][0]\n",
    "stop_cell:Cell = euc_maze.grid[19][19]\n",
    "\n",
    "explored, parents = a_star_search(\n",
    "    maze=euc_maze, start_cell=start_cell, stop_cell=stop_cell, metric=\"euclidean\"\n",
    ")\n",
    "cell_path = shortest_path(maze=euc_maze, start_cell=start_cell, stop_cell=stop_cell, parents=parents)\n",
    "coord_path = [(cell.row, cell.col) for cell in cell_path]\n",
    "\n",
    "print(coord_path)\n",
    "print(\"Shortest path:\", len(coord_path))\n",
    "print(\"Explored states:\", len(explored))"
   ]
  },
  {
   "cell_type": "code",
   "execution_count": 48,
   "metadata": {},
   "outputs": [],
   "source": [
    "# tkinter visualization of euclidean a* search (incompatible with google colab)\n",
    "visualize(\n",
    "    title=\"euclidean a* search\",\n",
    "    maze=euc_maze, \n",
    "    start_cell=start_cell, \n",
    "    stop_cell=stop_cell, \n",
    "    explored=explored, \n",
    "    cell_path=cell_path\n",
    ")"
   ]
  },
  {
   "cell_type": "markdown",
   "metadata": {},
   "source": [
    "A* Search using Manhattan Distance Evaluation"
   ]
  },
  {
   "cell_type": "code",
   "execution_count": 49,
   "metadata": {},
   "outputs": [
    {
     "name": "stdout",
     "output_type": "stream",
     "text": [
      "[(0, 0), (0, 1), (0, 2), (1, 2), (2, 2), (2, 3), (2, 4), (3, 4), (4, 4), (4, 5), (5, 5), (5, 6), (5, 7), (5, 8), (5, 9), (5, 10), (5, 11), (6, 11), (7, 11), (7, 12), (7, 13), (8, 13), (9, 13), (10, 13), (11, 13), (12, 13), (13, 13), (13, 14), (14, 14), (14, 15), (15, 15), (16, 15), (17, 15), (18, 15), (19, 15), (19, 16), (19, 17), (19, 18), (19, 19)]\n",
      "Shortest path: 39\n",
      "Explored states: 164\n"
     ]
    }
   ],
   "source": [
    "# Load maze for euclidean a* search traversal\n",
    "man_maze = Maze(file_name=\"maze.csv\")\n",
    "\n",
    "# Run a search on each of the pathfinding algorithms and compare the results\n",
    "start_cell:Cell = man_maze.grid[0][0]\n",
    "stop_cell:Cell = man_maze.grid[19][19]\n",
    "\n",
    "explored, parents = a_star_search(\n",
    "    maze=man_maze, start_cell=start_cell, stop_cell=stop_cell, metric=\"manhattan\"\n",
    ")\n",
    "cell_path = shortest_path(maze=man_maze, start_cell=start_cell, stop_cell=stop_cell, parents=parents)\n",
    "coord_path = [(cell.row, cell.col) for cell in cell_path]\n",
    "\n",
    "print(coord_path)\n",
    "print(\"Shortest path:\", len(coord_path))\n",
    "print(\"Explored states:\", len(explored))"
   ]
  },
  {
   "cell_type": "code",
   "execution_count": 50,
   "metadata": {},
   "outputs": [],
   "source": [
    "# tkinter visualization of manhattan a* search (incompatible with google colab)\n",
    "visualize(\n",
    "    title=\"manhattan a* search\",\n",
    "    maze=man_maze, \n",
    "    start_cell=start_cell, \n",
    "    stop_cell=stop_cell, \n",
    "    explored=explored, \n",
    "    cell_path=cell_path\n",
    ")"
   ]
  }
 ],
 "metadata": {
  "kernelspec": {
   "display_name": "base",
   "language": "python",
   "name": "python3"
  },
  "language_info": {
   "codemirror_mode": {
    "name": "ipython",
    "version": 3
   },
   "file_extension": ".py",
   "mimetype": "text/x-python",
   "name": "python",
   "nbconvert_exporter": "python",
   "pygments_lexer": "ipython3",
   "version": "3.12.4"
  }
 },
 "nbformat": 4,
 "nbformat_minor": 2
}
